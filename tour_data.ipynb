{
 "cells": [
  {
   "cell_type": "code",
   "execution_count": 3,
   "id": "9a3993b4",
   "metadata": {},
   "outputs": [
    {
     "name": "stdout",
     "output_type": "stream",
     "text": [
      "✅ area_numbers.csv 파일이 생성되었습니다!\n"
     ]
    }
   ],
   "source": [
    "import pandas as pd\n",
    "\n",
    "data = [\n",
    "    [\"서울\", 1],\n",
    "    [\"인천\", 2],\n",
    "    [\"대전\", 3],\n",
    "    [\"대구\", 4],\n",
    "    [\"광주\", 5],\n",
    "    [\"부산\", 6],\n",
    "    [\"울산\", 7],\n",
    "    [\"세종특별자치시\", 8],\n",
    "    [\"경기도\", 31],\n",
    "    [\"강원특별자치도\", 32],\n",
    "    [\"충청북도\", 33],\n",
    "    [\"충청남도\", 34],\n",
    "    [\"경상북도\", 35],\n",
    "    [\"경상남도\", 36],\n",
    "    [\"전북특별자치도\", 37],\n",
    "    [\"전라남도\", 38],\n",
    "    [\"제주특별자치도\", 39],\n",
    "]\n",
    "\n",
    "df = pd.DataFrame(data, columns=[\"지역명\", \"지역코드\"])\n",
    "df.to_csv(\"data/area_numbers.csv\", index=False, encoding=\"utf-8-sig\")\n",
    "\n",
    "print(\"✅ area_numbers.csv 파일이 생성되었습니다!\")"
   ]
  },
  {
   "cell_type": "code",
   "execution_count": 4,
   "id": "9fe7d75b",
   "metadata": {},
   "outputs": [
    {
     "name": "stdout",
     "output_type": "stream",
     "text": [
      "응답 코드: 200\n",
      "✅ 관광지 정보가 'tourist_places.csv'로 저장되었습니다.\n"
     ]
    }
   ],
   "source": [
    "import requests\n",
    "import os\n",
    "import json\n",
    "import pandas as pd\n",
    "from dotenv import load_dotenv\n",
    "from urllib.parse import quote_plus\n",
    "\n",
    "# .env 파일에서 API KEY 불러오기\n",
    "load_dotenv()\n",
    "service_key = os.getenv(\"TOUR_KEY\")\n",
    "\n",
    "area_code = 39 \n",
    "\n",
    "# API URL\n",
    "url = (\n",
    "    f\"http://apis.data.go.kr/B551011/KorService2/areaBasedList2?\"\n",
    "    f\"serviceKey={service_key}&\"\n",
    "    f\"numOfRows=100&\"\n",
    "    f\"pageNo=1&\"\n",
    "    f\"MobileOS=ETC&\"\n",
    "    f\"MobileApp=TestApp&\"\n",
    "    f\"areaCode={area_code}&\"\n",
    "    f\"_type=json\"\n",
    ")\n",
    "\n",
    "# 요청\n",
    "response = requests.get(url)\n",
    "print(\"응답 코드:\", response.status_code)\n",
    "\n",
    "try:\n",
    "    data = response.json()\n",
    "    items = data['response']['body']['items']['item']\n",
    "\n",
    "    place_list = []\n",
    "    for item in items:\n",
    "        place_list.append({\n",
    "            '관광지명': item.get('title'),\n",
    "            '주소': item.get('addr1'),\n",
    "            '위도': item.get('mapy'),\n",
    "            '경도': item.get('mapx'),\n",
    "            '전화번호': item.get('tel'),\n",
    "            '콘텐츠ID': item.get('contentid'),\n",
    "            '카테고리': item.get('cat3'),\n",
    "            '관광지코드': item.get('contenttypeid'),\n",
    "            '지역코드': item.get('areacode')  # ✅ 지역코드 추가\n",
    "        })\n",
    "\n",
    "    df = pd.DataFrame(place_list)\n",
    "    df.to_csv(\"data/tourist_places.csv\", index=False, encoding='utf-8-sig')\n",
    "    print(\"✅ 관광지 정보가 'tourist_places.csv'로 저장되었습니다.\")\n",
    "\n",
    "except Exception as e:\n",
    "    print(\"❌ 오류 발생:\", e)\n",
    "    print(\"응답 내용:\\n\", response.text)"
   ]
  },
  {
   "cell_type": "code",
   "execution_count": null,
   "id": "5c4aa26f",
   "metadata": {},
   "outputs": [],
   "source": []
  }
 ],
 "metadata": {
  "kernelspec": {
   "display_name": "base",
   "language": "python",
   "name": "python3"
  },
  "language_info": {
   "codemirror_mode": {
    "name": "ipython",
    "version": 3
   },
   "file_extension": ".py",
   "mimetype": "text/x-python",
   "name": "python",
   "nbconvert_exporter": "python",
   "pygments_lexer": "ipython3",
   "version": "3.12.7"
  }
 },
 "nbformat": 4,
 "nbformat_minor": 5
}
