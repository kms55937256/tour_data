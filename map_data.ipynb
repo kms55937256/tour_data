{
 "cells": [
  {
   "cell_type": "code",
   "execution_count": 1,
   "id": "49231787",
   "metadata": {},
   "outputs": [
    {
     "name": "stdout",
     "output_type": "stream",
     "text": [
      "카카오 API Key: 4b2a041ea91ec45635455ff0e4e78441\n"
     ]
    }
   ],
   "source": [
    "import requests\n",
    "import pandas as pd\n",
    "import os\n",
    "from dotenv import load_dotenv\n",
    "\n",
    "# ✅ .env 파일에서 API 키 불러오기\n",
    "load_dotenv()\n",
    "KAKAO_KEY = os.getenv(\"KAKAO_KEY\")\n",
    "print(\"카카오 API Key:\", KAKAO_KEY)"
   ]
  },
  {
   "cell_type": "code",
   "execution_count": 2,
   "id": "47c144a5",
   "metadata": {},
   "outputs": [],
   "source": [
    "def search_place_by_name(name):\n",
    "    url = \"https://dapi.kakao.com/v2/local/search/keyword.json\"\n",
    "    headers = {\"Authorization\": f\"KakaoAK {KAKAO_KEY}\"}\n",
    "    params = {\"query\": name, \"size\": 1}\n",
    "    res = requests.get(url, headers=headers, params=params)\n",
    "    if res.status_code != 200:\n",
    "        print(\"카카오 API 오류:\", res.status_code)\n",
    "        return None\n",
    "    docs = res.json().get(\"documents\", [])\n",
    "    if not docs:\n",
    "        print(\"검색 결과 없음\")\n",
    "        return None\n",
    "    return docs[0]  # 첫 번째 결과 반환\n",
    "\n",
    "\n",
    "# ✅ 카카오 API - 좌표로 주변 맛집 검색\n",
    "def search_nearby_restaurants(lat, lon, pages=3):\n",
    "    url = \"https://dapi.kakao.com/v2/local/search/category.json\"\n",
    "    headers = {\"Authorization\": f\"KakaoAK {KAKAO_KEY}\"}\n",
    "    all_restaurants = []\n",
    "\n",
    "    for page in range(1, pages+1):\n",
    "        params = {\n",
    "            \"category_group_code\": \"FD6\",  # 음식점\n",
    "            \"x\": lon,\n",
    "            \"y\": lat,\n",
    "            \"radius\": 3000,\n",
    "            \"page\": page,\n",
    "            \"size\": 15,\n",
    "            \"sort\": \"distance\"\n",
    "        }\n",
    "        res = requests.get(url, headers=headers, params=params)\n",
    "        if res.status_code != 200:\n",
    "            print(\"카카오 API 오류:\", res.status_code)\n",
    "            break\n",
    "        all_restaurants += res.json().get(\"documents\", [])\n",
    "\n",
    "    return all_restaurants"
   ]
  },
  {
   "cell_type": "code",
   "execution_count": 3,
   "id": "10e29076",
   "metadata": {},
   "outputs": [
    {
     "name": "stdout",
     "output_type": "stream",
     "text": [
      "\n",
      "=== 관광지 리스트 ===\n",
      "1. 가는곶 세화\n",
      "2. 가람\n",
      "3. 가람돌솥밥\n",
      "4. 가름게스트하우스\n",
      "5. 가마오름\n",
      "6. 가메창(암메)\n",
      "7. 가문이오름(감은이오름)\n",
      "8. 가문잔치\n",
      "9. 가새기오름\n",
      "10. 가세오름\n"
     ]
    },
    {
     "ename": "ValueError",
     "evalue": "invalid literal for int() with base 10: ''",
     "output_type": "error",
     "traceback": [
      "\u001b[1;31m---------------------------------------------------------------------------\u001b[0m",
      "\u001b[1;31mValueError\u001b[0m                                Traceback (most recent call last)",
      "Cell \u001b[1;32mIn[3], line 10\u001b[0m\n\u001b[0;32m      7\u001b[0m     \u001b[38;5;28mprint\u001b[39m(\u001b[38;5;124mf\u001b[39m\u001b[38;5;124m\"\u001b[39m\u001b[38;5;132;01m{\u001b[39;00mi\u001b[38;5;241m+\u001b[39m\u001b[38;5;241m1\u001b[39m\u001b[38;5;132;01m}\u001b[39;00m\u001b[38;5;124m. \u001b[39m\u001b[38;5;132;01m{\u001b[39;00mname\u001b[38;5;132;01m}\u001b[39;00m\u001b[38;5;124m\"\u001b[39m)\n\u001b[0;32m      9\u001b[0m \u001b[38;5;66;03m# ✅ 사용자 입력\u001b[39;00m\n\u001b[1;32m---> 10\u001b[0m idx \u001b[38;5;241m=\u001b[39m \u001b[38;5;28mint\u001b[39m(\u001b[38;5;28minput\u001b[39m(\u001b[38;5;124m\"\u001b[39m\u001b[38;5;130;01m\\n\u001b[39;00m\u001b[38;5;124m번호를 선택하세요 (1~10): \u001b[39m\u001b[38;5;124m\"\u001b[39m)) \u001b[38;5;241m-\u001b[39m \u001b[38;5;241m1\u001b[39m\n\u001b[0;32m     11\u001b[0m selected_place \u001b[38;5;241m=\u001b[39m places\u001b[38;5;241m.\u001b[39miloc[idx]\n\u001b[0;32m     12\u001b[0m place_name \u001b[38;5;241m=\u001b[39m selected_place[\u001b[38;5;124m\"\u001b[39m\u001b[38;5;124m관광지명\u001b[39m\u001b[38;5;124m\"\u001b[39m]\n",
      "\u001b[1;31mValueError\u001b[0m: invalid literal for int() with base 10: ''"
     ]
    }
   ],
   "source": [
    "# ✅ 관광지 CSV 불러오기\n",
    "places = pd.read_csv(\"data/tourist_places.csv\")\n",
    "\n",
    "# ✅ 관광지 리스트 출력\n",
    "print(\"\\n=== 관광지 리스트 ===\")\n",
    "for i, name in enumerate(places[\"관광지명\"].head(10)):\n",
    "    print(f\"{i+1}. {name}\")\n",
    "\n",
    "# ✅ 사용자 입력\n",
    "idx = int(input(\"\\n번호를 선택하세요 (1~10): \")) - 1\n",
    "selected_place = places.iloc[idx]\n",
    "place_name = selected_place[\"관광지명\"]\n",
    "\n",
    "print(f\"\\n선택한 관광지: {place_name}\")"
   ]
  }
 ],
 "metadata": {
  "kernelspec": {
   "display_name": "base",
   "language": "python",
   "name": "python3"
  },
  "language_info": {
   "codemirror_mode": {
    "name": "ipython",
    "version": 3
   },
   "file_extension": ".py",
   "mimetype": "text/x-python",
   "name": "python",
   "nbconvert_exporter": "python",
   "pygments_lexer": "ipython3",
   "version": "3.12.7"
  }
 },
 "nbformat": 4,
 "nbformat_minor": 5
}
